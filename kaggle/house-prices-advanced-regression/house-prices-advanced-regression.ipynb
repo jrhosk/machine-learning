{
 "cells": [
  {
   "cell_type": "code",
   "execution_count": null,
   "id": "ba154b59",
   "metadata": {},
   "outputs": [],
   "source": [
    "import numpy as np\n",
    "import pandas as pd\n",
    "import seaborn as sns\n",
    "import matplotlib.pyplot as plt\n",
    "\n",
    "!python -m pip install plotly xgboost\n",
    "import plotly as pl\n",
    "\n",
    "from scipy import stats\n",
    "from scipy.stats import norm, skew\n",
    "from scipy.special import boxcox1p\n",
    "\n",
    "from sklearn.preprocessing import RobustScaler, MinMaxScaler, PowerTransformer, OrdinalEncoder\n",
    "from sklearn.model_selection import train_test_split\n",
    "from sklearn.model_selection import cross_val_score\n",
    "from sklearn.model_selection import GridSearchCV, KFold\n",
    "\n",
    "from sklearn.linear_model import ElasticNet, Lasso, LinearRegression, Ridge, ElasticNet\n",
    "from sklearn.svm import SVR\n",
    "from sklearn.metrics import mean_squared_error, r2_score\n",
    "\n",
    "import xgboost as xgb\n",
    "\n",
    "sns.set(rc={\"figure.figsize\":(12, 12)})"
   ]
  },
  {
   "cell_type": "code",
   "execution_count": null,
   "id": "ca32f7c1",
   "metadata": {},
   "outputs": [],
   "source": [
    "def imputinator(df:'pandas.DataFrame')->'pandas.DataFrame':\n",
    "  \n",
    "    for col in ['PoolQC', 'MiscFeature', 'Alley', 'FireplaceQu', 'GarageCond', \n",
    "              'GarageType', 'GarageFinish', 'GarageQual', 'BsmtExposure', \n",
    "              'BsmtFinType1', 'BsmtFinType2', 'BsmtCond', 'BsmtQual', \n",
    "              'MasVnrType','Fence']:\n",
    "              \n",
    "              df[col].fillna('None', inplace=True)\n",
    "  \n",
    "    for col in ['Electrical', 'LotFrontage', 'GarageYrBlt', 'MasVnrArea', 'MSZoning',\n",
    "              'Functional', 'BsmtFullBath', 'BsmtHalfBath', 'Utilities', 'KitchenQual',\n",
    "              'BsmtFinSF1', 'Exterior2nd', 'GarageCars', 'GarageArea', 'BsmtFinSF2',\n",
    "              'SaleType', 'TotalBsmtSF', 'BsmtUnfSF', 'Exterior1st']:\n",
    "              \n",
    "              df[col].fillna(df[col].mode()[0], inplace=True)\n",
    "    return df\n",
    "\n",
    "\n",
    "def rmse(pred:'numpy.array', truth:'numpy.array')->'float':\n",
    "    return np.sqrt(mean_squared_error(pred, truth))"
   ]
  },
  {
   "cell_type": "code",
   "execution_count": null,
   "id": "27b13663",
   "metadata": {},
   "outputs": [],
   "source": [
    "train = pd.read_csv('train.csv')\n",
    "test = pd.read_csv('test.csv')\n",
    "\n",
    "train_id = train['Id']\n",
    "train.drop(columns=['Id'])\n",
    "\n",
    "train_nrows = train.shape[0]\n",
    "test_nrows = test.shape[0]"
   ]
  },
  {
   "cell_type": "code",
   "execution_count": null,
   "id": "3b651317",
   "metadata": {},
   "outputs": [],
   "source": [
    "df_concat = pd.concat([train, test]).reset_index(drop=True)\n",
    "\n",
    "sale_concat = df_concat['SalePrice']\n",
    "\n",
    "df_concat.drop(columns=['SalePrice', 'Id'], inplace=True)\n",
    "df_concat.head(5)"
   ]
  },
  {
   "cell_type": "code",
   "execution_count": null,
   "id": "0e1b5d82",
   "metadata": {},
   "outputs": [],
   "source": [
    "missing_values_count = df_concat.isna().sum().sort_values(ascending=False)\n",
    "missing_values = missing_values_count[missing_values_count > 0]\n",
    "\n",
    "missing_values"
   ]
  },
  {
   "cell_type": "code",
   "execution_count": null,
   "id": "380c24e2",
   "metadata": {},
   "outputs": [],
   "source": [
    "sns.barplot(x=missing_values.index, y=missing_values)\n",
    "plt.xticks(rotation='90')"
   ]
  },
  {
   "cell_type": "code",
   "execution_count": null,
   "id": "e228ed07",
   "metadata": {},
   "outputs": [],
   "source": [
    "df_concat = imputinator(df_concat)"
   ]
  },
  {
   "cell_type": "code",
   "execution_count": null,
   "id": "927c0867",
   "metadata": {},
   "outputs": [],
   "source": [
    "df_numerical = pd.concat([train, test]).reset_index(drop=True).select_dtypes(exclude='object')\n",
    "\n",
    "df_numerical.corr().apply(np.abs).SalePrice.sort_values(ascending=False)"
   ]
  },
  {
   "cell_type": "code",
   "execution_count": null,
   "id": "8aa72b66",
   "metadata": {},
   "outputs": [],
   "source": [
    "df_numerical['TotalBathrooms'] = df_numerical['FullBath'] + df_numerical['BsmtFullBath'] + 0.5*(df_numerical['HalfBath'] + df_numerical['BsmtHalfBath'])\n",
    "df_numerical['TotalArea'] = df_numerical['TotalBsmtSF'] + df_numerical['1stFlrSF'] + df_numerical['2ndFlrSF'] + df_numerical['GarageArea']\n",
    "df_numerical['HouseAge'] = 2022 - df_numerical['YearBuilt']\n",
    "df_numerical['YrSncRemod'] = 2022 - df_numerical['YearRemodAdd']"
   ]
  },
  {
   "cell_type": "code",
   "execution_count": null,
   "id": "b7c8370f",
   "metadata": {},
   "outputs": [],
   "source": [
    "df_numerical.corr().apply(np.abs).SalePrice.sort_values(ascending=False)"
   ]
  },
  {
   "cell_type": "markdown",
   "id": "4b2f4ee2",
   "metadata": {},
   "source": [
    "The combined variables seem to have a much better correlation."
   ]
  },
  {
   "cell_type": "code",
   "execution_count": null,
   "id": "cf9c7216",
   "metadata": {},
   "outputs": [],
   "source": [
    "df_numerical.drop(columns=[\n",
    "    'FullBath', 'BsmtFullBath', 'HalfBath', 'BsmtHalfBath', 'Id',\n",
    "    '1stFlrSF', '2ndFlrSF', 'GarageArea', 'YearBuilt', 'YearRemodAdd'\n",
    "], inplace=True)"
   ]
  },
  {
   "cell_type": "code",
   "execution_count": null,
   "id": "8f3c3300",
   "metadata": {},
   "outputs": [],
   "source": [
    "df_numerical.corr().apply(np.abs).SalePrice.sort_values(ascending=False)"
   ]
  },
  {
   "cell_type": "markdown",
   "id": "33508fab",
   "metadata": {},
   "source": [
    "Drop seemingly meaningless variables cov(<0.15)"
   ]
  },
  {
   "cell_type": "code",
   "execution_count": null,
   "id": "700dc5a7",
   "metadata": {},
   "outputs": [],
   "source": [
    "mask = df_numerical.corr().apply(np.abs).SalePrice.sort_values(ascending=False) < 0.15\n",
    "index_to_be_dropped = df_numerical.corr().apply(np.abs).SalePrice.sort_values(ascending=False)[mask].index"
   ]
  },
  {
   "cell_type": "code",
   "execution_count": null,
   "id": "66a31d2e",
   "metadata": {},
   "outputs": [],
   "source": [
    "df_numerical.drop(columns=index_to_be_dropped, inplace=True)"
   ]
  },
  {
   "cell_type": "code",
   "execution_count": null,
   "id": "08f91895",
   "metadata": {},
   "outputs": [],
   "source": [
    "sns.heatmap(df_numerical.corr(), \n",
    "            vmin=-1.0, \n",
    "            vmax=1.0, \n",
    "            annot=True, \n",
    "            linewidths=0.5, \n",
    "            fmt='1.1f', \n",
    "            cmap='icefire')"
   ]
  },
  {
   "cell_type": "markdown",
   "id": "3fbc530c",
   "metadata": {},
   "source": [
    "Now look at covariance between dependant variable."
   ]
  },
  {
   "cell_type": "code",
   "execution_count": null,
   "id": "c3d66c18",
   "metadata": {},
   "outputs": [],
   "source": [
    "sns.heatmap(df_numerical.corr(), \n",
    "            vmin=-1.0, \n",
    "            vmax=1.0, \n",
    "            annot=True, \n",
    "            linewidths=0.5, \n",
    "            fmt='1.1f', \n",
    "            cmap='icefire', \n",
    "            mask=np.triu(df_numerical.apply(np.abs).corr()) < 0.65)"
   ]
  },
  {
   "cell_type": "markdown",
   "id": "ee4f16e5",
   "metadata": {},
   "source": [
    "- `TotRmsAbvGrd`, `GrLivArea` and `BedroomAbvGr` give overlapping information. `SalePrice` is highly correlated with `GrLivArea`, `TotalArea` and `OverallQual`. We could do PCA but first let's try keeping only the most general.\n",
    "\n",
    "- Keep: `TotalArea` and `OverallQual`\n",
    "- Drop `TotRmsAbvGrd`, `GrLivArea`, `BedroomAbvGr`, and  `TotalBsmtSF`\n",
    "\n",
    "This of course don't fix the issue of the high correlation between `OverallQual` and `TotalArea`."
   ]
  },
  {
   "cell_type": "code",
   "execution_count": null,
   "id": "32e81467",
   "metadata": {},
   "outputs": [],
   "source": [
    "df_numerical.drop(columns=['TotRmsAbvGrd', 'GrLivArea', 'BedroomAbvGr', 'TotalBsmtSF', 'GarageYrBlt' ,'GarageCars'], inplace=True)"
   ]
  },
  {
   "cell_type": "code",
   "execution_count": null,
   "id": "73f9d0f7",
   "metadata": {},
   "outputs": [],
   "source": [
    "sns.heatmap(df_numerical.corr(), \n",
    "            vmin=-1.0, \n",
    "            vmax=1.0, \n",
    "            annot=True, \n",
    "            linewidths=0.5, \n",
    "            fmt='1.1f', \n",
    "            cmap='icefire')"
   ]
  },
  {
   "cell_type": "markdown",
   "id": "ce30d424",
   "metadata": {},
   "source": [
    "Apply changes to full dataset"
   ]
  },
  {
   "cell_type": "code",
   "execution_count": null,
   "id": "a0f5e880",
   "metadata": {},
   "outputs": [],
   "source": [
    "df_concat['TotalBathrooms'] = df_concat['FullBath'] + df_concat['BsmtFullBath'] + 0.5*(df_concat['HalfBath'] + df_concat['BsmtHalfBath'])\n",
    "df_concat['TotalArea'] = df_concat['TotalBsmtSF'] + df_concat['1stFlrSF'] + df_concat['2ndFlrSF'] + df_concat['GarageArea']\n",
    "df_concat['HouseAge'] = 2022 - df_concat['YearBuilt']\n",
    "df_concat['YrSncRemod'] = 2022 - df_concat['YearRemodAdd']\n",
    "\n",
    "df_concat.drop(columns=[\n",
    "    'FullBath', 'BsmtFullBath', 'HalfBath', 'BsmtHalfBath',\n",
    "    '1stFlrSF', '2ndFlrSF', 'GarageArea', 'YearBuilt', 'YearRemodAdd'\n",
    "], inplace=True)\n",
    "\n",
    "df_concat.drop(columns=index_to_be_dropped, inplace=True)\n",
    "\n",
    "df_concat.drop(columns=['TotRmsAbvGrd', 'GrLivArea', 'BedroomAbvGr', 'TotalBsmtSF', 'GarageYrBlt' ,'GarageCars'], inplace=True)"
   ]
  },
  {
   "cell_type": "code",
   "execution_count": null,
   "id": "36923aa3",
   "metadata": {},
   "outputs": [],
   "source": [
    "sns.heatmap(df_concat.corr(), \n",
    "            vmin=-1.0, \n",
    "            vmax=1.0, \n",
    "            annot=True, \n",
    "            linewidths=0.5, \n",
    "            fmt='1.1f', \n",
    "            cmap='icefire')"
   ]
  },
  {
   "cell_type": "code",
   "execution_count": null,
   "id": "8e444f54",
   "metadata": {},
   "outputs": [],
   "source": [
    "cols = df_numerical.corr().SalePrice.apply(np.abs).sort_values(ascending=False)[:5].index"
   ]
  },
  {
   "cell_type": "code",
   "execution_count": null,
   "id": "aac404a6",
   "metadata": {},
   "outputs": [],
   "source": [
    "import plotly.express as px\n",
    "\n",
    "fig = px.scatter_matrix(df_numerical, dimensions=cols)\n",
    "fig.show()"
   ]
  },
  {
   "cell_type": "code",
   "execution_count": null,
   "id": "cab39c3c",
   "metadata": {},
   "outputs": [],
   "source": [
    "cols"
   ]
  },
  {
   "cell_type": "code",
   "execution_count": null,
   "id": "44df7b31",
   "metadata": {},
   "outputs": [],
   "source": [
    "import plotly.express as px\n",
    "\n",
    "y = df_numerical.SalePrice\n",
    "\n",
    "fig = px.scatter(\n",
    "    df_numerical, x='TotalArea', y='SalePrice',\n",
    "    marginal_x='histogram', marginal_y='histogram',\n",
    "    trendline='ols'\n",
    ")\n",
    "\n",
    "fig.show()"
   ]
  },
  {
   "cell_type": "code",
   "execution_count": null,
   "id": "25528a80",
   "metadata": {},
   "outputs": [],
   "source": [
    "fig = px.scatter(\n",
    "    df_numerical, x='OverallQual', y='SalePrice',\n",
    "    marginal_x='histogram', marginal_y='histogram',\n",
    "    trendline='ols'\n",
    ")\n",
    "\n",
    "fig.show()"
   ]
  },
  {
   "cell_type": "code",
   "execution_count": null,
   "id": "ffede406",
   "metadata": {},
   "outputs": [],
   "source": [
    "fig = px.scatter(\n",
    "    df_numerical, x='TotalBathrooms', y='SalePrice',\n",
    "    marginal_x='histogram', marginal_y='histogram',\n",
    "    trendline='ols'\n",
    ")\n",
    "\n",
    "fig.show()"
   ]
  },
  {
   "cell_type": "code",
   "execution_count": null,
   "id": "b9dad230",
   "metadata": {},
   "outputs": [],
   "source": [
    "fig = px.scatter(\n",
    "    df_numerical, x='HouseAge', y='SalePrice',\n",
    "    marginal_x='histogram', marginal_y='histogram',\n",
    "    trendline='ols'\n",
    ")\n",
    "\n",
    "fig.show()"
   ]
  },
  {
   "cell_type": "code",
   "execution_count": null,
   "id": "a8098cfe",
   "metadata": {},
   "outputs": [],
   "source": [
    "outlier_index = df_numerical[df_numerical.TotalArea > 8697].index\n",
    "df_numerical.drop(index=outlier_index, inplace=True)"
   ]
  },
  {
   "cell_type": "code",
   "execution_count": null,
   "id": "eb967611",
   "metadata": {},
   "outputs": [],
   "source": [
    "y = df_numerical.SalePrice.apply(np.log1p)\n",
    "x = df_numerical.TotalArea.apply(np.log1p)\n",
    "\n",
    "fig = px.scatter(\n",
    "    df_numerical, x=x, y=y,\n",
    "    marginal_x='histogram', marginal_y='histogram',\n",
    "    trendline='ols'\n",
    ")\n",
    "\n",
    "fig.show()"
   ]
  },
  {
   "cell_type": "code",
   "execution_count": null,
   "id": "90bee18b",
   "metadata": {},
   "outputs": [],
   "source": [
    "y = df_numerical.SalePrice.apply(np.log1p)\n",
    "x = df_numerical.OverallQual.apply(np.log1p)\n",
    "\n",
    "fig = px.scatter(\n",
    "    df_numerical, x=x, y=y,\n",
    "    marginal_x='histogram', marginal_y='histogram',\n",
    "    trendline='ols'\n",
    ")\n",
    "\n",
    "fig.show()"
   ]
  },
  {
   "cell_type": "code",
   "execution_count": null,
   "id": "6e2919e8",
   "metadata": {},
   "outputs": [],
   "source": [
    "y = df_numerical.SalePrice.apply(np.log1p)\n",
    "x = df_numerical.TotalBathrooms.apply(np.log1p)\n",
    "\n",
    "fig = px.scatter(\n",
    "    df_numerical, x=x, y=y,\n",
    "    marginal_x='histogram', marginal_y='histogram',\n",
    "    trendline='ols'\n",
    ")\n",
    "\n",
    "fig.show()"
   ]
  },
  {
   "cell_type": "code",
   "execution_count": null,
   "id": "3c4ad2d2",
   "metadata": {},
   "outputs": [],
   "source": [
    "y = df_numerical.SalePrice.apply(np.log1p)\n",
    "x = df_numerical.HouseAge.apply(np.log1p)\n",
    "\n",
    "fig = px.scatter(\n",
    "    df_numerical, x=x, y=y,\n",
    "    marginal_x='histogram', marginal_y='histogram',\n",
    "    trendline='ols'\n",
    ")\n",
    "\n",
    "fig.show()"
   ]
  },
  {
   "cell_type": "code",
   "execution_count": null,
   "id": "07be34c7",
   "metadata": {},
   "outputs": [],
   "source": [
    "df_concat.LotFrontage.apply(np.log1p)\n",
    "df_concat.OverallQual = df_concat.OverallQual.apply(np.log1p)\n",
    "df_concat.MasVnrArea = df_concat.MasVnrArea.apply(np.log1p)\n",
    "df_concat.BsmtFinSF1 = df_concat.BsmtFinSF1.apply(np.log1p)\n",
    "df_concat.BsmtUnfSF = df_concat.BsmtUnfSF.apply(np.log1p)\n",
    "df_concat.WoodDeckSF = df_concat.WoodDeckSF.apply(np.log1p)\n",
    "df_concat.OpenPorchSF = df_concat.OpenPorchSF.apply(np.log1p)\n",
    "df_concat.HouseAge = df_concat.HouseAge.apply(np.log1p)\n",
    "df_concat.YrSncRemod = df_concat.YrSncRemod.apply(np.log1p)"
   ]
  },
  {
   "cell_type": "code",
   "execution_count": null,
   "id": "323a2a19",
   "metadata": {},
   "outputs": [],
   "source": [
    "sale_concat = sale_concat.apply(np.log1p)"
   ]
  },
  {
   "cell_type": "markdown",
   "id": "a22a947c",
   "metadata": {},
   "source": [
    "Next look at the non-numerical values and determine how they should be cardinalized. There will be mtwo catergories:\n",
    "\n",
    "- Variables that need an ranked encoding - Ordinal\n",
    "- Variables that need a binary encoding - OneHotTransform\n"
   ]
  },
  {
   "cell_type": "code",
   "execution_count": null,
   "id": "0991a882",
   "metadata": {},
   "outputs": [],
   "source": [
    "df_concat.select_dtypes(include='object').columns"
   ]
  },
  {
   "cell_type": "code",
   "execution_count": null,
   "id": "3a1a640f",
   "metadata": {},
   "outputs": [],
   "source": [
    "df_concat = pd.get_dummies(\n",
    "    df_concat, \n",
    "    columns=[\n",
    "        'MSZoning', \n",
    "        'Street',\n",
    "        'Alley',\n",
    "        'LotShape',\n",
    "        'LandContour',\n",
    "        'Utilities',\n",
    "        'LotConfig',\n",
    "        'LandSlope',\n",
    "        'Neighborhood',\n",
    "        'Condition1',\n",
    "        'Condition2',\n",
    "        'BldgType',\n",
    "        'HouseStyle',\n",
    "        'RoofStyle',\n",
    "        'RoofMatl',\n",
    "        'Exterior1st',\n",
    "        'Exterior2nd',\n",
    "        'MasVnrType',\n",
    "        'Foundation',\n",
    "        'Heating',\n",
    "        'CentralAir',\n",
    "        'Electrical',\n",
    "        'PavedDrive',\n",
    "        'Fence',\n",
    "        'MiscFeature',\n",
    "        'SaleType',\n",
    "        'BsmtFinType1',\n",
    "        'BsmtFinType2',\n",
    "        'Functional',\n",
    "        'GarageType',\n",
    "        'GarageFinish'\n",
    "    ]\n",
    ")\n"
   ]
  },
  {
   "cell_type": "code",
   "execution_count": null,
   "id": "0f375fbe",
   "metadata": {},
   "outputs": [],
   "source": [
    "ordinal_columns = df_concat.select_dtypes(include='object').columns"
   ]
  },
  {
   "cell_type": "code",
   "execution_count": null,
   "id": "d7cab932",
   "metadata": {},
   "outputs": [],
   "source": [
    "df_ordinal = df_concat[ordinal_columns]"
   ]
  },
  {
   "cell_type": "code",
   "execution_count": null,
   "id": "ac2cfb01",
   "metadata": {},
   "outputs": [],
   "source": [
    "ordinal = OrdinalEncoder()\n",
    "\n",
    "df_ordinal = pd.DataFrame(ordinal.fit_transform(df_ordinal), columns=ordinal_columns)"
   ]
  },
  {
   "cell_type": "code",
   "execution_count": null,
   "id": "db0a6f05",
   "metadata": {},
   "outputs": [],
   "source": [
    "df_ordinal"
   ]
  },
  {
   "cell_type": "code",
   "execution_count": null,
   "id": "58f18f6f",
   "metadata": {},
   "outputs": [],
   "source": [
    "df_concat.drop(columns=ordinal_columns, inplace=True)"
   ]
  },
  {
   "cell_type": "code",
   "execution_count": null,
   "id": "2aa91022",
   "metadata": {},
   "outputs": [],
   "source": [
    "df_concat = df_concat.merge(df_ordinal, how='inner', on=df_concat.index)"
   ]
  },
  {
   "cell_type": "code",
   "execution_count": null,
   "id": "0d9a439c",
   "metadata": {},
   "outputs": [],
   "source": [
    "df_concat"
   ]
  },
  {
   "cell_type": "code",
   "execution_count": null,
   "id": "4c8d485a",
   "metadata": {},
   "outputs": [],
   "source": [
    "scaler = RobustScaler()\n",
    "\n",
    "df_concat = pd.DataFrame(scaler.fit_transform(df_concat), columns=df_concat.columns)"
   ]
  },
  {
   "cell_type": "code",
   "execution_count": null,
   "id": "1cf4b4b7",
   "metadata": {},
   "outputs": [],
   "source": [
    "df_concat.drop(columns=['key_0'], inplace=True)\n",
    "df_concat"
   ]
  },
  {
   "cell_type": "markdown",
   "id": "ed3ba030",
   "metadata": {},
   "source": [
    "Now we need to check the Gauss-Markov Assumptions"
   ]
  },
  {
   "cell_type": "code",
   "execution_count": null,
   "id": "d308a29b",
   "metadata": {},
   "outputs": [],
   "source": [
    "#transformer = PowerTransformer(method='yeo-johnson')\n",
    "\n",
    "#df_concat.OverallQual = df_concat.OverallQual.transform(func = lambda x: transformer.fit_transform(x.values.reshape(-1, 1)))"
   ]
  },
  {
   "cell_type": "code",
   "execution_count": null,
   "id": "8dad713a",
   "metadata": {},
   "outputs": [],
   "source": [
    "X = df_concat[:train_nrows]\n",
    "y = sale_concat[:train_nrows]\n",
    "\n",
    "X_train, X_val, y_train, y_val = train_test_split(X, y, test_size=0.25, random_state=42)"
   ]
  },
  {
   "cell_type": "code",
   "execution_count": null,
   "id": "144eb02a",
   "metadata": {},
   "outputs": [],
   "source": [
    "y_results = pd.DataFrame()"
   ]
  },
  {
   "cell_type": "code",
   "execution_count": null,
   "id": "49e8dad8",
   "metadata": {},
   "outputs": [],
   "source": [
    "results = {}\n",
    "\n",
    "linear = LinearRegression()\n",
    "linear.fit(X, y)\n",
    "\n",
    "y_pred = linear.predict(X_val)\n",
    "results['linear'] = rmse(y_pred, y_val)\n",
    "\n",
    "y_results['linear'] = y_pred"
   ]
  },
  {
   "cell_type": "code",
   "execution_count": null,
   "id": "e61ad36a",
   "metadata": {},
   "outputs": [],
   "source": [
    "kfolds = KFold(n_splits=10, shuffle=True, random_state=42)\n",
    "\n",
    "ridge = Ridge()\n",
    "param = {'alpha': [0.001, 0.1, 0.001, 10, 100]}\n",
    "\n",
    "ridge_grid_search = GridSearchCV(estimator=ridge, \n",
    "                                 param_grid=param, \n",
    "                                 scoring='r2', \n",
    "                                 cv=kfolds, \n",
    "                                 verbose=True, \n",
    "                                 return_train_score=True)\n",
    "ridge_grid_search.fit(X_train, y_train)\n",
    "\n",
    "y_pred = ridge_grid_search.predict(X_val)\n",
    "\n",
    "results['ridge'] = rmse(y_pred, y_val)\n",
    "y_results['ridge'] = y_pred\n",
    "\n",
    "ridge_grid_search.best_estimator_"
   ]
  },
  {
   "cell_type": "code",
   "execution_count": null,
   "id": "e87ea4f1",
   "metadata": {},
   "outputs": [],
   "source": [
    "plt.plot(ridge_grid_search.cv_results_['param_alpha'].data,\n",
    "         ridge_grid_search.cv_results_['mean_train_score'].data)\n",
    "\n",
    "plt.plot(ridge_grid_search.cv_results_['param_alpha'].data,\n",
    "         ridge_grid_search.cv_results_['mean_test_score'].data)"
   ]
  },
  {
   "cell_type": "code",
   "execution_count": null,
   "id": "18e582a6",
   "metadata": {},
   "outputs": [],
   "source": [
    "lasso = Lasso()\n",
    "param = {'alpha':[0.001, 0.01, 0.03, 0.05, 0.09, 0.7, 0.9, 5, 10, 20]}\n",
    "\n",
    "lasso_grid_search = GridSearchCV(estimator=lasso, \n",
    "                                 param_grid=param, \n",
    "                                 scoring='r2', \n",
    "                                 cv=kfolds, \n",
    "                                 verbose=True,\n",
    "                                 return_train_score=True)\n",
    "lasso_grid_search.fit(X_train, y_train)\n",
    "\n",
    "y_pred = lasso_grid_search.predict(X_val)\n",
    "\n",
    "results['lasso'] = rmse(y_pred, y_val)\n",
    "y_results['lasso'] = y_pred\n",
    "\n",
    "lasso_grid_search.best_estimator_"
   ]
  },
  {
   "cell_type": "code",
   "execution_count": null,
   "id": "42f5030e",
   "metadata": {},
   "outputs": [],
   "source": [
    "plt.plot(lasso_grid_search.cv_results_['param_alpha'].data,\n",
    "         lasso_grid_search.cv_results_['mean_train_score'].data)\n",
    "\n",
    "plt.plot(lasso_grid_search.cv_results_['param_alpha'].data,\n",
    "         lasso_grid_search.cv_results_['mean_test_score'].data)"
   ]
  },
  {
   "cell_type": "code",
   "execution_count": null,
   "id": "f5ab19c4",
   "metadata": {},
   "outputs": [],
   "source": [
    "elastic = ElasticNet()\n",
    "param = {\n",
    "    'alpha':[0.001, 0.01, 0.03, 0.05, 0.09, 0.7, 0.9, 5, 10, 20],\n",
    "    'l1_ratio':[0.1, 0.2, 0.3, 0.4, 0.5, 0.6, 0.7, 0.8, 0.9]\n",
    "    }\n",
    "\n",
    "elastic_grid_search = GridSearchCV(estimator=elastic, \n",
    "                                 param_grid=param, \n",
    "                                 scoring='r2', \n",
    "                                 cv=kfolds, \n",
    "                                 verbose=True,\n",
    "                                 return_train_score=True)\n",
    "elastic_grid_search.fit(X_train, y_train)\n",
    "\n",
    "y_pred = elastic_grid_search.predict(X_val)\n",
    "\n",
    "results['elastic_net'] = rmse(y_pred, y_val)\n",
    "y_results['elastic_net'] = y_pred"
   ]
  },
  {
   "cell_type": "code",
   "execution_count": null,
   "id": "237bb11a",
   "metadata": {},
   "outputs": [],
   "source": [
    "svr = SVR()\n",
    "param = {\n",
    "    'kernel':['rbf'],\n",
    "    'C': [0.1, 1, 10, 100, 500],\n",
    "    'epsilon':[0.1, 0.5, 1, 5, 10, 100]\n",
    "    }\n",
    "\n",
    "svr_grid_search = GridSearchCV(estimator=svr,\n",
    "                                 param_grid=param, \n",
    "                                 cv=kfolds, \n",
    "                                 verbose=True,\n",
    "                                 return_train_score=True)\n",
    "svr_grid_search.fit(X_train, y_train)\n",
    "\n",
    "y_pred = svr_grid_search.predict(X_val)\n",
    "\n",
    "results['svr'] = rmse(y_pred, y_val)\n",
    "y_results['svr'] = y_pred"
   ]
  },
  {
   "cell_type": "code",
   "execution_count": null,
   "id": "ce627183",
   "metadata": {},
   "outputs": [],
   "source": [
    "model_xgb = xgb.XGBRegressor(colsample_bytree=0.4603, gamma=0.0468, \n",
    "                             learning_rate=0.05, max_depth=3, \n",
    "                             min_child_weight=1.7817, n_estimators=2200,\n",
    "                             reg_alpha=0.4640, reg_lambda=0.8571,\n",
    "                             subsample=0.5213, silent=1,\n",
    "                             random_state =0, nthread = -1,\n",
    "                             verbosity = 1)\n",
    "\n",
    "model_xgb.fit(X_train, y_train)\n",
    "xgb_train_pred = model_xgb.predict(X_train)\n",
    "xgb_pred = np.expm1(model_xgb.predict(X_val))\n",
    "\n",
    "results['xgb'] = rmse(np.log1p(xgb_pred), y_val)\n",
    "y_results['xgb'] = y_pred"
   ]
  },
  {
   "cell_type": "code",
   "execution_count": null,
   "id": "3534db97",
   "metadata": {},
   "outputs": [],
   "source": [
    "y_results"
   ]
  },
  {
   "cell_type": "code",
   "execution_count": null,
   "id": "51e3b7e2",
   "metadata": {},
   "outputs": [],
   "source": [
    "y_average_pred = y_results.mean(axis=1).values"
   ]
  },
  {
   "cell_type": "code",
   "execution_count": null,
   "id": "e3b4945b",
   "metadata": {},
   "outputs": [],
   "source": [
    "rmse(y_average_pred, y_val)"
   ]
  },
  {
   "cell_type": "code",
   "execution_count": null,
   "id": "cd8d6a0c",
   "metadata": {},
   "outputs": [],
   "source": [
    "results"
   ]
  },
  {
   "cell_type": "code",
   "execution_count": null,
   "id": "f2689dcc",
   "metadata": {},
   "outputs": [],
   "source": []
  }
 ],
 "metadata": {
  "kernelspec": {
   "display_name": "Python 3",
   "language": "python",
   "name": "python3"
  },
  "language_info": {
   "codemirror_mode": {
    "name": "ipython",
    "version": 3
   },
   "file_extension": ".py",
   "mimetype": "text/x-python",
   "name": "python",
   "nbconvert_exporter": "python",
   "pygments_lexer": "ipython3",
   "version": "3.8.8"
  }
 },
 "nbformat": 4,
 "nbformat_minor": 5
}
